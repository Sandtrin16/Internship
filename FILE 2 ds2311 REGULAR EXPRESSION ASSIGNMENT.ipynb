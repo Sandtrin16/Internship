{
 "cells": [
  {
   "cell_type": "code",
   "execution_count": 1,
   "id": "041f8418",
   "metadata": {},
   "outputs": [],
   "source": [
    "#Question 1- Write a Python program to replace all occurrences of a space, comma, or dot with a colon.\n",
    "#Sample Text- 'Python Exercises, PHP exercises.'\n",
    "#Expected Output: Python:Exercises::PHP:exercises:"
   ]
  },
  {
   "cell_type": "code",
   "execution_count": 805,
   "id": "cfed799c",
   "metadata": {},
   "outputs": [
    {
     "name": "stdout",
     "output_type": "stream",
     "text": [
      "Python:Exercises::PHP:exercises:\n"
     ]
    }
   ],
   "source": [
    "import re\n",
    "import numpy as np\n",
    "import pandas as pd\n",
    "target_string =\"Python Exercises, PHP exercises.\"\n",
    "output = re.sub('[\\s|,|.]',':',target_string)\n",
    "print(output)"
   ]
  },
  {
   "cell_type": "code",
   "execution_count": 6,
   "id": "075f4a47",
   "metadata": {},
   "outputs": [],
   "source": [
    "#Question 2-  Create a dataframe using the dictionary below and remove everything (commas (,), !, XXXX, ;, etc.) from the columns except words.\n",
    "#Dictionary- {'SUMMARY' : ['hello, world!', 'XXXXX test', '123four, five:; six...']}\n",
    "#Expected output-\n",
    "#0      hello world\n",
    "#1             test\n",
    "#2    four five six\n"
   ]
  },
  {
   "cell_type": "code",
   "execution_count": 129,
   "id": "ff4954c8",
   "metadata": {},
   "outputs": [
    {
     "name": "stdout",
     "output_type": "stream",
     "text": [
      "                   SUMMARY\n",
      "0            hello, world!\n",
      "1               XXXXX test\n",
      "2  123four, five:; six....\n",
      "               SUMMARY\n",
      "0      [hello,  world]\n",
      "1              [ test]\n",
      "2  [four,  five,  six]\n"
     ]
    }
   ],
   "source": [
    "dictionary = {'SUMMARY': ['hello, world!','XXXXX test','123four, five:; six....']}\n",
    "df = pd.DataFrame(dictionary)\n",
    "print (df)\n",
    "pattern = r'[^XXXXX|^:|^;|^...|^\\d|^,|^!]+'\n",
    "df['SUMMARY'] = df['SUMMARY'].apply(lambda x: re.findall(pattern, x))\n",
    "print(df)"
   ]
  },
  {
   "cell_type": "code",
   "execution_count": 200,
   "id": "391584cc",
   "metadata": {},
   "outputs": [
    {
     "name": "stdout",
     "output_type": "stream",
     "text": [
      "('2023',)\n",
      "('time',)\n",
      "('24x7',)\n",
      "('days',)\n"
     ]
    }
   ],
   "source": [
    "#Question 3- Create a function in python to find all words that are at least 4 characters long in a string.\n",
    "#The use of the re.compile() method is mandatory.\n",
    "\n",
    "target_string  ='Hello World 2023 NOW is the time to shine 24x7 365 days .'\n",
    "pattern = re.compile(r\"(\\b\\w{4}\\b)\")\n",
    "for match in pattern.finditer(target_string):\n",
    "    print(match.groups())\n",
    "   "
   ]
  },
  {
   "cell_type": "code",
   "execution_count": null,
   "id": "ad06b41c",
   "metadata": {},
   "outputs": [],
   "source": [
    "#Question 4- Create a function in python to find all three, four, and five character words in a string.\n",
    "#The use of the re.compile() method is mandatory."
   ]
  },
  {
   "cell_type": "code",
   "execution_count": 295,
   "id": "1c5ac2b8",
   "metadata": {},
   "outputs": [
    {
     "name": "stdout",
     "output_type": "stream",
     "text": [
      "(None, 'Hello', None)\n",
      "(None, 'World', None)\n",
      "('2023', None, None)\n",
      "('time', None, None)\n",
      "(None, 'shine', None)\n",
      "(None, None, 'nicely')\n",
      "('24x7', None, None)\n",
      "('days', None, None)\n"
     ]
    }
   ],
   "source": [
    "target_string  ='Hello World 2023 NOW is the time to shine nicely 24x7 365 days .'\n",
    "pattern = re.compile(r\"(\\b\\w{4}\\b)|(\\b\\w{5}\\b)|(\\b\\w{6}\\b)\")\n",
    "for match in pattern.finditer(target_string):\n",
    "    print(match.groups())\n",
    "   "
   ]
  },
  {
   "cell_type": "code",
   "execution_count": 792,
   "id": "5f540eff",
   "metadata": {},
   "outputs": [
    {
     "name": "stdout",
     "output_type": "stream",
     "text": [
      "example  .com \n",
      "hr@fliprobo  .com \n",
      "github  .com \n",
      "Hello  Data Science World \n",
      "Data  Scientist \n"
     ]
    }
   ],
   "source": [
    "#Question 5- Create a function in Python to remove the parenthesis in a list of strings. The use of the re.compile() method is mandatory.\n",
    "#Sample Text: [\"example (.com)\", \"hr@fliprobo (.com)\", \"github (.com)\", \"Hello (Data Science World)\", \"Data (Scientist)\"]\n",
    "#Expected Output:\n",
    "#example.com\n",
    "#hr@fliprobo.com\n",
    "#github.com\n",
    "#Hello Data Science World\n",
    "#Data Scientist\n",
    "sample_text = [\"example (.com)\", \"hr@fliprobo (.com)\", \"github (.com)\", \"Hello (Data Science World)\", \"Data (Scientist)\"]\n",
    "pattern = re.compile(r'[()]')\n",
    "for i in sample_text:\n",
    "    out = re.sub(pattern, ' ',i)\n",
    "    print(out)"
   ]
  },
  {
   "cell_type": "code",
   "execution_count": 865,
   "id": "81e969c8",
   "metadata": {},
   "outputs": [
    {
     "name": "stdout",
     "output_type": "stream",
     "text": [
      "example  \n",
      "hr@fliprobo  \n",
      "github  \n",
      "Hello  \n",
      "Data  \n"
     ]
    }
   ],
   "source": [
    "#Question 6- Write a python program to remove the parenthesis area from the text stored in the text file using Regular Expression.\n",
    "#Sample Text: [\"example (.com)\", \"hr@fliprobo (.com)\", \"github (.com)\", \"Hello (Data Science World)\", \"Data (Scientist)\"]\n",
    "#Expected Output: [\"example\", \"hr@fliprobo\", \"github\", \"Hello\", \"Data\"]\n",
    "#Note- Store given sample text in the text file and then to remove the parenthesis area from the text.\n",
    "\n",
    "\n",
    "sample_text = [\"example (.com)\", \"hr@fliprobo (.com)\", \"github (.com)\", \"Hello (Data Science World)\", \"Data (Scientist)\"]\n",
    "readfile =open(\"pop.txt\",'r')\n",
    "for i in sample_text:\n",
    "    pattern = re.compile(r'([()].+\\w+[()])')\n",
    "    out = re.sub(pattern,' ',i)\n",
    "    print(out)"
   ]
  },
  {
   "cell_type": "code",
   "execution_count": 861,
   "id": "8bcf31f5",
   "metadata": {},
   "outputs": [
    {
     "name": "stdout",
     "output_type": "stream",
     "text": [
      "['Importance', 'Of', 'Regular', 'Expressions', 'In', 'Python']\n"
     ]
    }
   ],
   "source": [
    "#Question 7- Write a regular expression in Python to split a string into uppercase letters.\n",
    "#Sample text: “ImportanceOfRegularExpressionsInPython”\n",
    "#Expected Output: [‘Importance’, ‘Of’, ‘Regular’, ‘Expression’, ‘In’, ‘Python’]\n",
    "\n",
    "Sample_text ='ImportanceOfRegularExpressionsInPython'\n",
    "pattern = r'[A-Z][^A-Z]+'\n",
    "splitted_string = re.findall(pattern,Sample_text)\n",
    "print(splitted_string)"
   ]
  },
  {
   "cell_type": "code",
   "execution_count": 50,
   "id": "2ac73ff6",
   "metadata": {},
   "outputs": [
    {
     "name": "stdout",
     "output_type": "stream",
     "text": [
      " RegularExpression 1   IsAn 2   ImportantTopic 3   InPython \n"
     ]
    }
   ],
   "source": [
    "#Question 8- Create a function in python to insert spaces between words starting with numbers.\n",
    "#Sample Text: “RegularExpression1IsAn2ImportantTopic3InPython\"\n",
    "#Expected Output: RegularExpression 1IsAn 2ImportantTopic 3InPython\n",
    "\n",
    "Sample_text = 'RegularExpression1IsAn2ImportantTopic3InPython'\n",
    "r = re.sub(r'([\\d]+)|([A-Za-z]+)', r'\\1 \\2 ', Sample_text)\n",
    "print(r)"
   ]
  },
  {
   "cell_type": "code",
   "execution_count": 399,
   "id": "aa91a09f",
   "metadata": {},
   "outputs": [
    {
     "name": "stdout",
     "output_type": "stream",
     "text": [
      "Regular  Expression   1 Is  An   2 Important  Topic   3 In  Python  \n"
     ]
    }
   ],
   "source": [
    "#Question 9- Create a function in python to insert spaces between words starting with capital letters or with numbers.\n",
    "#Sample Text: “RegularExpression1IsAn2ImportantTopic3InPython\"\n",
    "#Expected Output:  Regular Expression 1 Is An 2 Important Topic 3 In Python\n",
    "\n",
    "Sample_text = 'RegularExpression1IsAn2ImportantTopic3InPython'\n",
    "r = re.sub(r'([A-Z][a-z]+)|([\\d]+)', r'\\1 \\2 ', Sample_text,0)\n",
    "print(r)"
   ]
  },
  {
   "cell_type": "code",
   "execution_count": 69,
   "id": "392dfcb8",
   "metadata": {},
   "outputs": [
    {
     "name": "stdout",
     "output_type": "stream",
     "text": [
      " RegularExpression 1IsAn  2ImportantTopic  3InPython  \n"
     ]
    }
   ],
   "source": [
    "#Question 8- Create a function in python to insert spaces between words starting with numbers.\n",
    "#Sample Text: “RegularExpression1IsAn2ImportantTopic3InPython\"\n",
    "#Expected Output: RegularExpression 1IsAn 2ImportantTopic 3InPython\n",
    "Sample_text = 'RegularExpression1IsAn2ImportantTopic3InPython'\n",
    "r = re.sub(r'([\\d]+[A-Za-z]+)|([A-Za-z]+)', r'\\1 \\2 ', Sample_text)\n",
    "print(r)"
   ]
  },
  {
   "cell_type": "code",
   "execution_count": null,
   "id": "8f359d10",
   "metadata": {},
   "outputs": [],
   "source": [
    "#Question 10- Use the github link below to read the data and create a dataframe. After creating the dataframe extract the first 6 letters of each country and store in the dataframe under a new column called first_five_letters.\n",
    "#Github Link-  https://raw.githubusercontent.com/dsrscientist/DSData/master/happiness_score_dataset.csv\n"
   ]
  },
  {
   "cell_type": "code",
   "execution_count": 19,
   "id": "107f5dec",
   "metadata": {},
   "outputs": [
    {
     "name": "stdout",
     "output_type": "stream",
     "text": [
      "['She', 'was', 'the', 'BRA9_popVEST', 'abbcommander', 'No', 'a3252727b', 'in', 'town', '20']\n"
     ]
    }
   ],
   "source": [
    "#Question 11- Write a Python program to match a string that contains only upper and lowercase letters, numbers, and underscores.\n",
    "import re\n",
    "target_string =\"She was \\n the BRA9_popVEST \\n abbcommander No a3252727b \\n  .... ! in town 20\"\n",
    "result = re.findall(r'([\\w]+)', target_string)\n",
    "print(result)"
   ]
  },
  {
   "cell_type": "code",
   "execution_count": 29,
   "id": "35ca4b38",
   "metadata": {},
   "outputs": [
    {
     "name": "stdout",
     "output_type": "stream",
     "text": [
      "['35']\n"
     ]
    }
   ],
   "source": [
    "#Question 12- Write a Python program where a string will start with a specific number. \n",
    "\n",
    "import re\n",
    "target_string =\"35She was the bravest commander No 3252727b \\n  .... ! in town 20\"\n",
    "result = re.findall(r'^\\d+', target_string)\n",
    "print(result)"
   ]
  },
  {
   "cell_type": "code",
   "execution_count": null,
   "id": "124cb359",
   "metadata": {},
   "outputs": [],
   "source": [
    "#Question 13- Write a Python program to remove leading zeros from an IP address\n"
   ]
  },
  {
   "cell_type": "code",
   "execution_count": 183,
   "id": "086a4a7c",
   "metadata": {},
   "outputs": [
    {
     "name": "stdout",
     "output_type": "stream",
     "text": [
      " 1. 34.113. 1\n"
     ]
    }
   ],
   "source": [
    "i =\"001.034.113.001\"\n",
    "#for i in target_string:\n",
    "result = re.sub('(0+)', ' ', i)\n",
    "print(result)"
   ]
  },
  {
   "cell_type": "code",
   "execution_count": 206,
   "id": "64fb780d",
   "metadata": {},
   "outputs": [
    {
     "name": "stdout",
     "output_type": "stream",
     "text": [
      "['August 15th 1947']\n"
     ]
    }
   ],
   "source": [
    "#Question 14- Write a regular expression in python to match a date string in the form of Month name followed by day number and year stored in a text file.\n",
    "#Sample text :  ' On August 15th 1947 that India was declared independent from British colonialism, and the reins of control were handed over to the leaders of the Country’.\n",
    "#Expected Output- August 15th 1947\n",
    "#Note- Store given sample text in the text file and then extract the date string asked format.\n",
    "\n",
    "input_text = \"On August 15th 1947 that India was declared independent from British colonialism, and the reins of control were handed over to the leaders of the Country’.\"\n",
    "pattern = r'\\b([A-Za-z]+ [0-9]{1,2}th+ \\d{4})'\n",
    "result = re.findall(pattern, input_text)\n",
    "print(result)"
   ]
  },
  {
   "cell_type": "code",
   "execution_count": 225,
   "id": "ee26839a",
   "metadata": {},
   "outputs": [
    {
     "name": "stdout",
     "output_type": "stream",
     "text": [
      "Matching \"fox\" in \"The quick brown fox jumps over the lazy dog.\"\n",
      "<re.Match object; span=(16, 19), match='fox'>\n",
      "Matching \"dog\" in \"The quick brown fox jumps over the lazy dog.\"\n",
      "<re.Match object; span=(40, 43), match='dog'>\n",
      "Matching \"horse\" in \"The quick brown fox jumps over the lazy dog.\"\n",
      "None\n"
     ]
    }
   ],
   "source": [
    "#Question 15- Write a Python program to search some literals strings in a string. \n",
    "Sample_text ='The quick brown fox jumps over the lazy dog.'\n",
    "Searched_words =[ 'fox', 'dog', 'horse']\n",
    "for i in Searched_words:\n",
    "    print('Matching \"%s\" in \"%s\"' %(i,Sample_text))\n",
    "    matched = re.search(i, Sample_text)\n",
    "    print(matched)\n",
    "    \n"
   ]
  },
  {
   "cell_type": "code",
   "execution_count": 226,
   "id": "6a11fb1f",
   "metadata": {},
   "outputs": [
    {
     "name": "stdout",
     "output_type": "stream",
     "text": [
      "<re.Match object; span=(16, 19), match='fox'>\n"
     ]
    }
   ],
   "source": [
    "#Question 16- Write a Python program to search a literals string in a string and also find the location within the original string where the pattern occurs\n",
    "#Sample text : 'The quick brown fox jumps over the lazy dog.'\n",
    "#Searched words : 'fox'\n",
    "Sample_text ='The quick brown fox jumps over the lazy dog.'\n",
    "Searched_words = 'fox'\n",
    "matched = re.search('fox', Sample_text)\n",
    "print(matched)"
   ]
  },
  {
   "cell_type": "code",
   "execution_count": 245,
   "id": "665bd913",
   "metadata": {},
   "outputs": [
    {
     "name": "stdout",
     "output_type": "stream",
     "text": [
      "['Python exercises', 'PHP exercises', 'C# exercises']\n"
     ]
    }
   ],
   "source": [
    "#Question 17- Write a Python program to find the substrings within a string.\n",
    "sample_text = 'Python exercises, PHP exercises, C# exercises'\n",
    "pattern = r'\\b([\\w|#]+ exercises)\\b'\n",
    "out= re.findall(pattern,sample_text)\n",
    "print(out)"
   ]
  },
  {
   "cell_type": "code",
   "execution_count": 251,
   "id": "61561aef",
   "metadata": {},
   "outputs": [
    {
     "name": "stdout",
     "output_type": "stream",
     "text": [
      "<re.Match object; span=(0, 16), match='Python exercises'>\n",
      "<re.Match object; span=(18, 31), match='PHP exercises'>\n",
      "<re.Match object; span=(33, 45), match='C# exercises'>\n"
     ]
    }
   ],
   "source": [
    "#Question 18- Write a Python program to find the occurrence and position of the substrings within a string.\n",
    "sample_text = 'Python exercises, PHP exercises, C# exercises'\n",
    "pattern = r'\\b([\\w|#]+ exercises)\\b'\n",
    "match_iteration= re.finditer(pattern,sample_text)\n",
    "for i in match_iteration:\n",
    "    print(i)"
   ]
  },
  {
   "cell_type": "code",
   "execution_count": 252,
   "id": "a003f41a",
   "metadata": {},
   "outputs": [],
   "source": [
    "#Question 19- Write a Python program to convert a date of yyyy-mm-dd format to dd-mm-yyyy format.\n"
   ]
  },
  {
   "cell_type": "code",
   "execution_count": 373,
   "id": "a1fb2b99",
   "metadata": {},
   "outputs": [
    {
     "name": "stdout",
     "output_type": "stream",
     "text": [
      "['01.12', '145.8', '3.01', '27.25', '0.25']\n"
     ]
    }
   ],
   "source": [
    "#Question 20- Create a function in python to find all decimal numbers with a precision of 1 or 2 in a string. The use of the re.compile() method is mandatory.\n",
    "#Expected_Output: ['01.12', '145.8', '3.01', '27.25', '0.25']\n",
    "\n",
    "Sample_Text = \"01.12 0132.123 2.31875 145.8 3.01 27.25 0.25\"\n",
    "pattern = re.compile(r'\\d+\\.\\d{1,2}\\b')\n",
    "out = re.findall(pattern ,Sample_Text)\n",
    "print(out)"
   ]
  },
  {
   "cell_type": "code",
   "execution_count": 390,
   "id": "ee860d43",
   "metadata": {},
   "outputs": [
    {
     "data": {
      "text/plain": [
       "'950'"
      ]
     },
     "execution_count": 390,
     "metadata": {},
     "output_type": "execute_result"
    }
   ],
   "source": [
    "#Question 22- Write a regular expression in python program to extract maximum/largest numeric value from a string.\n",
    "#Expected Output: 950\n",
    "\n",
    "Sample_Text =  'My marks in each semester are: 947, 896, 926, 524, 734, 950, 642'\n",
    "Marksset = re.findall(r'\\b\\d+', Sample_Text)\n",
    "max(Marksset) \n"
   ]
  },
  {
   "cell_type": "code",
   "execution_count": 435,
   "id": "5c592a97",
   "metadata": {},
   "outputs": [
    {
     "name": "stdout",
     "output_type": "stream",
     "text": [
      "Regular Expression Is An Important Topic In Python \n"
     ]
    }
   ],
   "source": [
    "#Question 23- Create a function in python to insert spaces between words starting with capital letters or with numbers.\n",
    "#Sample Text: “RegularExpression1IsAn2ImportantTopic3InPython\"\n",
    "#Expected Output:  Regular Expression  Is An  Important Topic  In Python\n",
    "\n",
    "Sample_text = 'RegularExpressionIsAnImportantTopicInPython'\n",
    "r = re.sub(r'([A-Z][a-z]+)', r'\\1 ', Sample_text)\n",
    "print(r)"
   ]
  },
  {
   "cell_type": "code",
   "execution_count": 436,
   "id": "bb32a437",
   "metadata": {},
   "outputs": [
    {
     "name": "stdout",
     "output_type": "stream",
     "text": [
      "<re.Match object; span=(0, 7), match='Regular'>\n",
      "<re.Match object; span=(7, 17), match='Expression'>\n",
      "<re.Match object; span=(17, 19), match='Is'>\n",
      "<re.Match object; span=(19, 21), match='An'>\n",
      "<re.Match object; span=(21, 30), match='Important'>\n",
      "<re.Match object; span=(30, 35), match='Topic'>\n",
      "<re.Match object; span=(35, 37), match='In'>\n",
      "<re.Match object; span=(37, 43), match='Python'>\n"
     ]
    }
   ],
   "source": [
    "# Question 24- Python regex to find sequences of one upper case letter followed by lower case letters\n",
    "Sample_text = 'RegularExpressionIsAnImportantTopicInPython'\n",
    "r = re.finditer(r'([A-Z][a-z]+)', Sample_text)\n",
    "for i in r:\n",
    "    print(i)\n",
    "   "
   ]
  },
  {
   "cell_type": "code",
   "execution_count": 482,
   "id": "ff77892c",
   "metadata": {},
   "outputs": [
    {
     "name": "stdout",
     "output_type": "stream",
     "text": [
      "Hello hello world \n"
     ]
    }
   ],
   "source": [
    "#Question 25- Write a Python program to remove continuous duplicate words from Sentence using Regular Expression.\n",
    "\n",
    "#Expected Output: Hello hello world\n",
    "\n",
    "Text = \"Hello hello world world\"\n",
    "output = re.sub(r'(\\b\\w+) \\1',r'\\1 ',Text)\n",
    "print(output)"
   ]
  },
  {
   "cell_type": "code",
   "execution_count": null,
   "id": "c71fa107",
   "metadata": {},
   "outputs": [],
   "source": [
    "#Question 26-  Write a python program using RegEx to accept string ending with alphanumeric character."
   ]
  },
  {
   "cell_type": "code",
   "execution_count": 590,
   "id": "e1694b1d",
   "metadata": {},
   "outputs": [
    {
     "name": "stdout",
     "output_type": "stream",
     "text": [
      "['#Doltiwal', '#xyzabc', '#Demonetization']\n"
     ]
    }
   ],
   "source": [
    "#Question 27-Write a python program using RegEx to extract the hashtags.\n",
    "#Expected Output: ['#Doltiwal', '#xyzabc', '#Demonetization']\n",
    "\n",
    "Text = \"\"\"RT @kapil_kausik: #Doltiwal I mean #xyzabc is \"hurt\" by #Demonetization as the same has rendered USELESS <ed><U+00A0><U+00BD><ed><U+00B1><U+0089> acquired funds No wo\"\"\"\n",
    "output = re.findall(r'#.\\w+',Text)\n",
    "print(output)\n"
   ]
  },
  {
   "cell_type": "code",
   "execution_count": 735,
   "id": "e3255f3e",
   "metadata": {},
   "outputs": [
    {
     "name": "stdout",
     "output_type": "stream",
     "text": [
      "@Jags123456 Bharat band on 28??<ed><ed>Those who  are protesting #demonetization  are all different party leaders\n"
     ]
    }
   ],
   "source": [
    "#Question 28- Write a python program using RegEx to remove <U+..> like symbols\n",
    "#Check the below sample text, there are strange symbols something of the sort <U+..> all over the place. \n",
    "# You need to come up with a general Regex expression that will cover all such symbols.\n",
    "\n",
    "#Expected Output: @Jags123456 Bharat band on 28??<ed><ed>Those who  are protesting #demonetization  are all different party leaders\n",
    "Sample_text= \"@Jags123456 Bharat band on 28??<ed><U+00A0><U+&00BD><ed><U+00B8><U+0082>Those who  are protesting #demonetization  are all different party leaders\"\n",
    "output = re.sub(r'<U[+*&^#%@].\\w+>','',Sample_text)\n",
    "print(output)"
   ]
  },
  {
   "cell_type": "code",
   "execution_count": null,
   "id": "ef270a7e",
   "metadata": {},
   "outputs": [],
   "source": []
  },
  {
   "cell_type": "code",
   "execution_count": null,
   "id": "afcfbc7b",
   "metadata": {},
   "outputs": [],
   "source": []
  },
  {
   "cell_type": "code",
   "execution_count": null,
   "id": "ab119f37",
   "metadata": {},
   "outputs": [],
   "source": []
  }
 ],
 "metadata": {
  "kernelspec": {
   "display_name": "Python 3 (ipykernel)",
   "language": "python",
   "name": "python3"
  },
  "language_info": {
   "codemirror_mode": {
    "name": "ipython",
    "version": 3
   },
   "file_extension": ".py",
   "mimetype": "text/x-python",
   "name": "python",
   "nbconvert_exporter": "python",
   "pygments_lexer": "ipython3",
   "version": "3.9.12"
  }
 },
 "nbformat": 4,
 "nbformat_minor": 5
}
